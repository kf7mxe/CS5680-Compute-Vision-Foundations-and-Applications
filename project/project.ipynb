{
 "cells": [
  {
   "cell_type": "markdown",
   "metadata": {},
   "source": []
  },
  {
   "cell_type": "code",
   "execution_count": 1,
   "metadata": {},
   "outputs": [],
   "source": [
    "# imports\n",
    "import cv2\n",
    "import pandas as pd\n",
    "import os\n",
    "import numpy as np\n",
    "import matplotlib.pyplot as plt\n",
    "\n",
    "cwd = os.getcwd()\n"
   ]
  },
  {
   "cell_type": "markdown",
   "metadata": {},
   "source": [
    "CK+ Dataset\n",
    "\n",
    "0: anger\n",
    "1: disgust\n",
    "2: fear\n",
    "3: happy\n",
    "4: sad\n",
    "5: surprise\n",
    "6: neutral\n",
    "7: contempt"
   ]
  },
  {
   "cell_type": "code",
   "execution_count": 2,
   "metadata": {},
   "outputs": [
    {
     "name": "stdout",
     "output_type": "stream",
     "text": [
      "   emotion                                             pixels     Usage\n",
      "0        6  36 39 35 25 19 11 8 7 3 13 15 9 21 57 75 90 10...  Training\n",
      "1        6  88 74 19 4 5 5 3 12 8 21 15 21 15 18 24 29 32 ...  Training\n",
      "2        6  9 2 4 7 1 1 1 0 7 29 49 76 115 141 156 169 177...  Training\n",
      "3        6  104 106 108 104 95 50 60 61 58 83 126 133 139 ...  Training\n",
      "4        6  68 72 67 67 6 2 1 1 1 1 1 14 24 24 38 65 79 94...  Training\n",
      "test\n",
      "6\n",
      "img shape:  2304\n",
      "size: 48 x 48\n"
     ]
    },
    {
     "data": {
      "image/png": "[encoded data removed]",
      "text/plain": [
       "<Figure size 640x480 with 1 Axes>"
      ]
     },
     "metadata": {},
     "output_type": "display_data"
    },
    {
     "name": "stdout",
     "output_type": "stream",
     "text": [
      "img is gray scale:  True\n"
     ]
    }
   ],
   "source": [
    "# https://www.kaggle.com/datasets/davilsena/ckdataset\n",
    "\n",
    "# load in datasets\n",
    "# load in the ckextneded.csv file\n",
    "ckplus_dataset = pd.read_csv(cwd + '/datasets/ckextended.csv')\n",
    "print(ckplus_dataset.head())\n",
    "print(\"test\")\n",
    "print(ckplus_dataset.iloc[0, 0])\n",
    "\n",
    "# display the first image in the dataset by getting the data in the first row of the second column\n",
    "# and reshaping it to 48x48\n",
    "img = ckplus_dataset.iloc[0, 1]\n",
    "img = img.split(' ')\n",
    "img = np.array(img, dtype='float32')\n",
    "print(\"img shape: \", img.shape[0])\n",
    "size = int(np.sqrt(img.shape[0]))\n",
    "print(f\"size: {size} x {size}\")\n",
    "img = img.reshape((size, size))\n",
    "# upscale image to 64x64\n",
    "img = cv2.resize(img, (64, 64))\n",
    "plt.imshow(img, cmap='gray')\n",
    "plt.show()\n",
    "\n",
    "# check if img is grey scale\n",
    "print(\"img is gray scale: \", img.ndim == 2)\n",
    "\n",
    "# if ckplus_dataset row in the 3rd column is training, then the image is for training, else it is for testing\n",
    "# create a list of training and testing images\n",
    "ckplus_train_images = []\n",
    "ckplus_train_labels = []\n",
    "ckplus_test_images = []\n",
    "ckplus_test_labels = []\n",
    "\n",
    "for i in range(0, ckplus_dataset.shape[0]):\n",
    "    img = ckplus_dataset.iloc[i, 1]\n",
    "    img = img.split(' ')\n",
    "    img = np.array(img, dtype='float32')\n",
    "    size = int(np.sqrt(img.shape[0]))\n",
    "    img = img.reshape((size, size))\n",
    "    img = cv2.resize(img, (64, 64))\n",
    "    if ckplus_dataset.iloc[i, 2] == 'Training':\n",
    "        ckplus_train_images.append(img)\n",
    "        ckplus_train_labels.append(ckplus_dataset.iloc[i, 0])\n",
    "    else:\n",
    "        ckplus_test_images.append(img)\n",
    "        ckplus_test_labels.append(ckplus_dataset.iloc[i, 0])\n"
   ]
  },
  {
   "cell_type": "markdown",
   "metadata": {},
   "source": [
    "# Unable to use Dataset\n",
    "Not able to use the JAFFE dataset due to restrictions on the dataset. Including the restriction of not being able to be used for homework, undergraduate projects and course projects. Unless there is another way to access it but I wasn't able to find any other way to access it.\n",
    "https://zenodo.org/records/3451524\n",
    "\n",
    "# Datasets used\n",
    "https://www.kaggle.com/datasets/tapakah68/facial-emotion-recognition"
   ]
  },
  {
   "cell_type": "code",
   "execution_count": 32,
   "metadata": {},
   "outputs": [],
   "source": [
    "def crop_using_viola_johns_algorithm(img, classifier = 'haarcascade_frontalface_default.xml'):\n",
    "    # load in the haar cascade classifier\n",
    "    face_cascade = cv2.CascadeClassifier(cwd +'/' +classifier)\n",
    "\n",
    "    # convert the image to grayscale\n",
    "    gray = cv2.cvtColor(img, cv2.COLOR_BGR2GRAY)\n",
    "    # detect the faces in the image\n",
    "    faces = face_cascade.detectMultiScale(gray, 1.1, 4)\n",
    "    # draw a rectangle around the face\n",
    "    for (x, y, w, h) in faces:\n",
    "        # crop the image\n",
    "        img = img[y:y+h, x:x+w]\n",
    "        # resize the image to 48x48\n",
    "        img = cv2.resize(img, (64, 64))\n",
    "        # return the image\n",
    "        return img\n",
    "    \n",
    "# croped_image = crop_using_viola_johns_algorithm(cv2.imread(cwd + '/datasets/kaggle-facial-emotional-recognition-dataset/images/0/Anger.jpg'))\n",
    "# test the function\n",
    "# cv2.imwrite(cwd + '/datasets/kaggle-facial-emotional-recognition-dataset/images/0/Anger_cropped.jpg', croped_image.astype(np.uint8))\n"
   ]
  },
  {
   "cell_type": "code",
   "execution_count": 33,
   "metadata": {},
   "outputs": [],
   "source": [
    "#load YOLOv3 weights and config file\n",
    "net = cv2.dnn.readNet(cwd + '/yolov3.weights', cwd + '/yolov3.cfg')\n",
    "\n",
    "with open(cwd + '/coco.names', 'r') as f:\n",
    "    classes = f.read().strip().split('\\n')\n",
    "def alternative_face_detector(img):\n",
    "    blob = cv2.dnn.blobFromImage(img, 1/255.0, (416, 416), swapRB=True, crop=False)\n",
    "    net.setInput(blob)\n",
    "    layerOutputs = net.forward()\n",
    "    layer_names = net.getUnconnectedOutLayersNames()\n",
    "    detections = net.forward(layer_names)\n",
    "\n",
    "    for detection in detections:\n",
    "        for obj in detection:\n",
    "            scores = obj[5:]\n",
    "            classID = np.argmax(scores)\n",
    "            confidence = scores[classID]\n",
    "            if confidence > 0.5 and classes[classID] == \"person\":\n",
    "                return True\n",
    "    return False\n",
    "\n"
   ]
  },
  {
   "cell_type": "markdown",
   "metadata": {},
   "source": []
  },
  {
   "cell_type": "code",
   "execution_count": 38,
   "metadata": {},
   "outputs": [
    {
     "name": "stdout",
     "output_type": "stream",
     "text": [
      "img is none\n",
      "img is none\n",
      "img is none\n",
      "img is none\n",
      "img is none\n"
     ]
    }
   ],
   "source": [
    "# https://www.kaggle.com/datasets/tapakah68/facial-emotion-recognition\n",
    "\n",
    "# crop images if they arent' already cropped\n",
    "\n",
    "classifiers = ['haarcascade_frontalface_default.xml', 'haarcascade_frontalface_alt.xml', 'haarcascade_frontalface_alt2.xml', 'haarcascade_frontalface_alt_tree.xml','haarcascade_profileface.xml']\n",
    "\n",
    "# go through the folders in the dataset/kaggle-facial-emotional-recognition-dataset \n",
    "for folder in os.listdir(cwd + '/datasets/kaggle-facial-emotional-recognition-dataset/images'):\n",
    "    for img_name in os.listdir(cwd + '/datasets/kaggle-facial-emotional-recognition-dataset/images/' + folder):\n",
    "        img = cv2.imread(cwd + '/datasets/kaggle-facial-emotional-recognition-dataset/images/' + folder + '/' + img_name)\n",
    "        cropped_image = crop_using_viola_johns_algorithm(img)\n",
    "        if cropped_image is None:\n",
    "            print(\"img is none\")\n",
    "            break\n",
    "        if cropped_image is None:\n",
    "            print(\"img is none\")\n",
    "            break\n",
    "        if alternative_face_detector(cropped_image) == False:\n",
    "            for classifier in classifiers:\n",
    "                cropped_image = crop_using_viola_johns_algorithm(img, classifier)\n",
    "                if cropped_image is None:\n",
    "                    break\n",
    "                if alternative_face_detector(cropped_image) == True:\n",
    "                    break\n",
    "            \n",
    "        if cropped_image is None:\n",
    "            print(\"img is none\")\n",
    "            break\n",
    "        \n",
    "\n",
    "        # save the image\n",
    "        # if folder doesn't exist, create it\n",
    "        if not os.path.exists(cwd + '/datasets/kaggle-facial-emotional-recognition-dataset/cropped_images'):\n",
    "            os.makedirs(cwd + '/datasets/kaggle-facial-emotional-recognition-dataset/cropped_images')\n",
    "        if not os.path.exists(cwd + '/datasets/kaggle-facial-emotional-recognition-dataset/cropped_images/' + folder):\n",
    "            os.makedirs(cwd + '/datasets/kaggle-facial-emotional-recognition-dataset/cropped_images/' + folder)\n",
    "        \n",
    "\n",
    "                # convert the image to grayscale\n",
    "        \n",
    "        cropped_image = cv2.cvtColor(cropped_image, cv2.COLOR_BGR2GRAY)\n",
    "        cv2.imwrite(cwd + '/datasets/kaggle-facial-emotional-recognition-dataset/cropped_images/' + folder + '/' + img_name, cropped_image)\n",
    "    # go through the images in the folder\n",
    "    \n",
    "\n",
    "   \n"
   ]
  },
  {
   "cell_type": "code",
   "execution_count": 49,
   "metadata": {},
   "outputs": [],
   "source": [
    "def get_number_label_for_string(label):\n",
    "    if label == 'Anger':\n",
    "        return 0\n",
    "    elif label == 'Disgust':\n",
    "        return 1\n",
    "    elif label == 'Fear':\n",
    "        return 2\n",
    "    elif label == 'Happy':\n",
    "        return 3\n",
    "    elif label == 'Sad':\n",
    "        return 4\n",
    "    elif label == 'Surprised':\n",
    "        return 5\n",
    "    elif label == 'Neutral':\n",
    "        return 6\n",
    "    elif label == 'Contempt':\n",
    "        return 7\n",
    "    else:\n",
    "        return -1"
   ]
  },
  {
   "cell_type": "code",
   "execution_count": 51,
   "metadata": {},
   "outputs": [
    {
     "name": "stdout",
     "output_type": "stream",
     "text": [
      "kaggle images:  125\n",
      "kaggle labels:  125\n",
      "kaggle_labels:  [0, 7, 1, 4, 5, 2, 6, 3, 0, 7, 1, 4, 0, 7, 1, 4, 5, 2, 6, 3, 0, 7, 1, 0, 7, 1, 4, 5, 2, 6, 3, 0, 7, 1, 4, 5, 2, 6, 3, 0, 7, 1, 4, 5, 2, 6, 3, 0, 7, 1, 4, 5, 2, 6, 3, 0, 7, 1, 4, 5, 2, 6, 3, 0, 7, 0, 7, 1, 4, 5, 2, 6, 3, 0, 7, 1, 4, 5, 2, 6, 3, 0, 7, 1, 4, 5, 2, 6, 3, 0, 7, 1, 4, 5, 2, 6, 3, 0, 7, 1, 4, 5, 2, 6, 3, 0, 7, 1, 4, 5, 2, 6, 3, 0, 7, 1, 4, 0, 7, 1, 4, 5, 2, 6, 3]\n",
      "kaggle_labels:  0\n"
     ]
    }
   ],
   "source": [
    "# load in the cropped images\n",
    "# create a list of training and testing images\n",
    "\n",
    "kaggle_images = []\n",
    "kaggle_labels = []\n",
    "\n",
    "for folder in os.listdir(cwd + '/datasets/kaggle-facial-emotional-recognition-dataset/cropped_images'):\n",
    "    for img_name in os.listdir(cwd + '/datasets/kaggle-facial-emotional-recognition-dataset/cropped_images/' + folder):\n",
    "        img = cv2.imread(cwd + '/datasets/kaggle-facial-emotional-recognition-dataset/cropped_images/' + folder + '/' + img_name)\n",
    "        if img is None:\n",
    "            print(\"img is none\")\n",
    "            break\n",
    "        kaggle_images.append(img)\n",
    "        # print(img_name)\n",
    "        # print(img_name.split('.')[0])\n",
    "        kaggle_labels.append(get_number_label_for_string(img_name.split('.')[0]))\n",
    "        \n",
    "print(\"kaggle images: \", len(kaggle_images))\n",
    "print(\"kaggle labels: \", len(kaggle_labels))\n",
    "\n",
    "\n",
    "        "
   ]
  },
  {
   "cell_type": "markdown",
   "metadata": {},
   "source": []
  },
  {
   "cell_type": "code",
   "execution_count": null,
   "metadata": {},
   "outputs": [],
   "source": [
    "def generate_hog_features(image):\n",
    "    # convert to grayscale \n",
    "    gray = cv2.cvtColor(image, cv2.COLOR_RGB2GRAY)\n",
    "\n",
    "    # calc hog features using cv2.HOGDescriptor\n",
    "    hog = cv2.HOGDescriptor()\n",
    "    hog_features = hog.compute(gray)\n",
    "\n",
    "    return hog_features"
   ]
  },
  {
   "cell_type": "code",
   "execution_count": null,
   "metadata": {},
   "outputs": [],
   "source": []
  }
 ],
 "metadata": {
  "kernelspec": {
   "display_name": "Computer_Vision-ERhKS5AB",
   "language": "python",
   "name": "python3"
  },
  "language_info": {
   "codemirror_mode": {
    "name": "ipython",
    "version": 3
   },
   "file_extension": ".py",
   "mimetype": "text/x-python",
   "name": "python",
   "nbconvert_exporter": "python",
   "pygments_lexer": "ipython3",
   "version": "3.8.8"
  }
 },
 "nbformat": 4,
 "nbformat_minor": 2
}
